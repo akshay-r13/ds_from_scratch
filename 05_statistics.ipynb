{
  "nbformat": 4,
  "nbformat_minor": 0,
  "metadata": {
    "colab": {
      "name": "05_statistics.ipynb",
      "provenance": [],
      "collapsed_sections": [],
      "toc_visible": true,
      "authorship_tag": "ABX9TyP49Zh7Hm+0Qhkj+AQdCnv4",
      "include_colab_link": true
    },
    "kernelspec": {
      "name": "python3",
      "display_name": "Python 3"
    },
    "language_info": {
      "name": "python"
    }
  },
  "cells": [
    {
      "cell_type": "markdown",
      "metadata": {
        "id": "view-in-github",
        "colab_type": "text"
      },
      "source": [
        "<a href=\"https://colab.research.google.com/github/akshay-r13/ds_from_scratch/blob/main/05_statistics.ipynb\" target=\"_parent\"><img src=\"https://colab.research.google.com/assets/colab-badge.svg\" alt=\"Open In Colab\"/></a>"
      ]
    },
    {
      "cell_type": "markdown",
      "metadata": {
        "id": "6ZPq1zySdh3W"
      },
      "source": [
        "# Statistics\n",
        "\n",
        "Statistics refers to the mathematics and techniques we use to understand data."
      ]
    },
    {
      "cell_type": "markdown",
      "metadata": {
        "id": "EXbnzZo_d0Q1"
      },
      "source": [
        "## Describing a single set of data"
      ]
    },
    {
      "cell_type": "markdown",
      "metadata": {
        "id": "v5jyfBKW9cxd"
      },
      "source": [
        "\n",
        "### Central tendencies\n",
        "\n",
        "The central tendencies are \n",
        "1. mean\n",
        "2. median\n",
        "3. quantile"
      ]
    },
    {
      "cell_type": "markdown",
      "metadata": {
        "id": "hfuv5JGjfGTq"
      },
      "source": [
        "#### Mean\n",
        "\n",
        "Mean gives us a notion of where the data is centred"
      ]
    },
    {
      "cell_type": "code",
      "metadata": {
        "id": "xW5f7BMoepKt"
      },
      "source": [
        "# Compute mean of several data points\n",
        "def mean(x):\n",
        "  return sum(x) / len(x)"
      ],
      "execution_count": null,
      "outputs": []
    },
    {
      "cell_type": "code",
      "metadata": {
        "colab": {
          "base_uri": "https://localhost:8080/"
        },
        "id": "PlSp72A_e1Yb",
        "outputId": "428993a9-af3a-47f7-b1ae-6abbf40fce7b"
      },
      "source": [
        "num_friends = [100, 49, 41, 40, 25]\n",
        "mean(num_friends)"
      ],
      "execution_count": null,
      "outputs": [
        {
          "output_type": "execute_result",
          "data": {
            "text/plain": [
              "51.0"
            ]
          },
          "metadata": {
            "tags": []
          },
          "execution_count": 2
        }
      ]
    },
    {
      "cell_type": "markdown",
      "metadata": {
        "id": "tvVzvAWbfb0R"
      },
      "source": [
        "> Mean of the data **depends on every data point in the dataset**"
      ]
    },
    {
      "cell_type": "markdown",
      "metadata": {
        "id": "Hs4CA4bZfA6X"
      },
      "source": [
        "#### Median\n",
        "\n",
        "Median of the data is the middle most value (or) the average of the 2 middle values of sorted data."
      ]
    },
    {
      "cell_type": "code",
      "metadata": {
        "id": "bBDqqMyYJOP8"
      },
      "source": [
        "# Function to compute median\n",
        "\n",
        "def median(x):\n",
        "  n = len(x)\n",
        "  sorted_x = sorted(x)\n",
        "  midpoint = n // 2\n",
        "\n",
        "  # If length of x is odd\n",
        "  if n % 2 != 0:\n",
        "    return sorted_x[midpoint]\n",
        "  else:\n",
        "    return (sorted_x[midpoint-1] + sorted_x[midpoint]) / 2"
      ],
      "execution_count": null,
      "outputs": []
    },
    {
      "cell_type": "code",
      "metadata": {
        "colab": {
          "base_uri": "https://localhost:8080/"
        },
        "id": "O4eM67XGLGFG",
        "outputId": "ae80ee75-33ca-4c5c-ac0d-2b894d5cfe80"
      },
      "source": [
        "median(num_friends)"
      ],
      "execution_count": null,
      "outputs": [
        {
          "output_type": "execute_result",
          "data": {
            "text/plain": [
              "41"
            ]
          },
          "metadata": {
            "tags": []
          },
          "execution_count": 4
        }
      ]
    },
    {
      "cell_type": "code",
      "metadata": {
        "colab": {
          "base_uri": "https://localhost:8080/"
        },
        "id": "ju8UnVJO55Kw",
        "outputId": "cb165ddf-5e77-4aca-f63e-773a705258f1"
      },
      "source": [
        "median([1, 3, 4, 10, 12])"
      ],
      "execution_count": null,
      "outputs": [
        {
          "output_type": "execute_result",
          "data": {
            "text/plain": [
              "4"
            ]
          },
          "metadata": {
            "tags": []
          },
          "execution_count": 5
        }
      ]
    },
    {
      "cell_type": "code",
      "metadata": {
        "colab": {
          "base_uri": "https://localhost:8080/"
        },
        "id": "p5tcnaL158Iw",
        "outputId": "b9731c82-b688-440f-ddf4-132f5794a838"
      },
      "source": [
        "median([1, 3, 4, 7, 10, 12])"
      ],
      "execution_count": null,
      "outputs": [
        {
          "output_type": "execute_result",
          "data": {
            "text/plain": [
              "5.5"
            ]
          },
          "metadata": {
            "tags": []
          },
          "execution_count": 6
        }
      ]
    },
    {
      "cell_type": "markdown",
      "metadata": {
        "id": "E_fSJ-MHLHQk"
      },
      "source": [
        "The prerequisite to finding the median is sorting the data.\n",
        "\n",
        "Also mean changes with every change in values in data. However median may not. By changing our dataset by a small value `e`, the median may\n",
        "1. remain the same\n",
        "2. Increase by `e`\n",
        "3. or increase by a value less than `e`"
      ]
    },
    {
      "cell_type": "markdown",
      "metadata": {
        "id": "Q0LkfmYyL5S_"
      },
      "source": [
        "> The mean is **highly sensitive to outliers**. However, the median is not as sensitive."
      ]
    },
    {
      "cell_type": "markdown",
      "metadata": {
        "id": "saCq7x3OMG_H"
      },
      "source": [
        "#### Quantile\n",
        "\n",
        "Quantile is a generalization of Median. It denotes **the value less than which a percentage of data exists**.\n",
        "\n",
        "The **median is the 50th quantile**"
      ]
    },
    {
      "cell_type": "code",
      "metadata": {
        "id": "2j5QqOhW6ubd"
      },
      "source": [
        "def quantile(x, p):\n",
        "  n = len(x)\n",
        "  p_index = int(n * p)\n",
        "  sorted_x = sorted(x)\n",
        "  return sorted_x[p_index]"
      ],
      "execution_count": null,
      "outputs": []
    },
    {
      "cell_type": "code",
      "metadata": {
        "colab": {
          "base_uri": "https://localhost:8080/"
        },
        "id": "H2UwC5Mq6-i1",
        "outputId": "c3a394c8-331e-420c-f292-138fbff6d1cb"
      },
      "source": [
        "print(quantile([1, 2, 3, 4, 5, 6, 7, 8, 9, 10], 0.5))\n",
        "print(quantile([1, 2, 3, 4, 5, 6, 7, 8, 9, 10], 0.9))\n",
        "print(quantile([1, 2, 3, 4, 5, 6, 7, 8, 9, 10], 0.4))\n",
        "print(quantile([1, 2, 3, 4, 5, 6, 7, 8, 9, 10], 0.3))"
      ],
      "execution_count": null,
      "outputs": [
        {
          "output_type": "stream",
          "text": [
            "6\n",
            "10\n",
            "5\n",
            "4\n"
          ],
          "name": "stdout"
        }
      ]
    },
    {
      "cell_type": "code",
      "metadata": {
        "id": "85mZ7QIKMAfr",
        "colab": {
          "base_uri": "https://localhost:8080/"
        },
        "outputId": "05ddfca5-29f9-4591-e5bf-e06f48e78bc9"
      },
      "source": [
        "print(quantile([1, 2, 3, 4, 5, 6, 7, 8, 9], 0.5))\n",
        "print(median([1, 2, 3, 4, 5, 6, 7, 8, 9]))"
      ],
      "execution_count": null,
      "outputs": [
        {
          "output_type": "stream",
          "text": [
            "5\n",
            "5\n"
          ],
          "name": "stdout"
        }
      ]
    },
    {
      "cell_type": "markdown",
      "metadata": {
        "id": "M3PHAHqE7s3l"
      },
      "source": [
        "#### Mode\n",
        "\n",
        "Mode refers to the **most frequently occuring value in a dataset**"
      ]
    },
    {
      "cell_type": "code",
      "metadata": {
        "id": "c6JRuVtL79C5"
      },
      "source": [
        "from collections import Counter"
      ],
      "execution_count": null,
      "outputs": []
    },
    {
      "cell_type": "code",
      "metadata": {
        "id": "6o8cHaI98Agp"
      },
      "source": [
        ""
      ],
      "execution_count": null,
      "outputs": []
    },
    {
      "cell_type": "code",
      "metadata": {
        "id": "2Y66ZBTuLlTc"
      },
      "source": [
        "def mode(x):\n",
        "  c = Counter(x)\n",
        "  max_count = max(c.values())\n",
        "  return [x for x, count in c.items() if count == max_count]\n",
        "\n"
      ],
      "execution_count": null,
      "outputs": []
    },
    {
      "cell_type": "code",
      "metadata": {
        "colab": {
          "base_uri": "https://localhost:8080/"
        },
        "id": "L49kgKFg8KyP",
        "outputId": "fe012c32-0a87-420e-aa78-2924b9a06a71"
      },
      "source": [
        "mode([1, 3, 1, 2, 3, 4 ,3 ,5, 3, 4, 1, 1])"
      ],
      "execution_count": null,
      "outputs": [
        {
          "output_type": "execute_result",
          "data": {
            "text/plain": [
              "[1, 3]"
            ]
          },
          "metadata": {
            "tags": []
          },
          "execution_count": 12
        }
      ]
    },
    {
      "cell_type": "code",
      "metadata": {
        "id": "dbWnuisP8ACq"
      },
      "source": [
        ""
      ],
      "execution_count": null,
      "outputs": []
    },
    {
      "cell_type": "markdown",
      "metadata": {
        "id": "IbiYJSTs8hnO"
      },
      "source": [
        "### Dispersion\n",
        "\n",
        "Dispersion refers to the measure of how spread out data is. \n",
        "Typicall, values close to 0 indicate no dispersion and large values indicate a large spread of data.\n",
        "\n",
        "Some measures of dispersion are:\n",
        "1. Range\n",
        "2. Variance\n",
        "3. Standard deviation\n",
        "4. Inter quantile range\n",
        "\n",
        "\n"
      ]
    },
    {
      "cell_type": "markdown",
      "metadata": {
        "id": "zZnjL-GC-ebY"
      },
      "source": [
        "#### Range\n",
        "\n",
        "Range simply refers to the difference between the max and min value of a dataset"
      ]
    },
    {
      "cell_type": "code",
      "metadata": {
        "id": "ChE14Yvq-j8S"
      },
      "source": [
        "def range(x):\n",
        "  sorted_x = sorted(x)\n",
        "  return sorted_x[-1] - sorted_x[0]"
      ],
      "execution_count": null,
      "outputs": []
    },
    {
      "cell_type": "code",
      "metadata": {
        "colab": {
          "base_uri": "https://localhost:8080/"
        },
        "id": "4JFr0J1y-p9D",
        "outputId": "8b6687cf-4147-4738-8cf4-5fa9336a9c7a"
      },
      "source": [
        "range([1, 12, 1, 3, 5 , 5, 10 , 8])"
      ],
      "execution_count": null,
      "outputs": [
        {
          "output_type": "execute_result",
          "data": {
            "text/plain": [
              "11"
            ]
          },
          "metadata": {
            "tags": []
          },
          "execution_count": 14
        }
      ]
    },
    {
      "cell_type": "markdown",
      "metadata": {
        "id": "-nr_SJYr-v7B"
      },
      "source": [
        "Range is very sensitive to outliers. For example:"
      ]
    },
    {
      "cell_type": "code",
      "metadata": {
        "colab": {
          "base_uri": "https://localhost:8080/"
        },
        "id": "2vYVF42E-1Tn",
        "outputId": "8c53b0a4-36fb-4f47-f163-d5ea83f6d04b"
      },
      "source": [
        "range([0.001, 0.002, 0.006, 0.009, 100])"
      ],
      "execution_count": null,
      "outputs": [
        {
          "output_type": "execute_result",
          "data": {
            "text/plain": [
              "99.999"
            ]
          },
          "metadata": {
            "tags": []
          },
          "execution_count": 15
        }
      ]
    },
    {
      "cell_type": "markdown",
      "metadata": {
        "id": "_bMaJrYs9lqn"
      },
      "source": [
        "#### Variance\n",
        "\n",
        "A more complex measurement of dispersion. Variance is defined as\n",
        "\n",
        "  $\\sigma^2 = \\frac{\\displaystyle\\sum_{i=1}^{n}(x_i - \\mu)^2} {n}$"
      ]
    },
    {
      "cell_type": "code",
      "metadata": {
        "id": "SBNe7vZL_I-x"
      },
      "source": [
        "def de_mean(x):\n",
        "  mu = mean(x)\n",
        "  return [xi - mu for xi in x]"
      ],
      "execution_count": null,
      "outputs": []
    },
    {
      "cell_type": "code",
      "metadata": {
        "colab": {
          "base_uri": "https://localhost:8080/"
        },
        "id": "zfkh2GJ5rzkp",
        "outputId": "e8a94842-05a1-4d62-b911-f4935f4e238d"
      },
      "source": [
        "de_mean([1, 2,3, 5,4 ,5 ,6, 7 ])"
      ],
      "execution_count": null,
      "outputs": [
        {
          "output_type": "execute_result",
          "data": {
            "text/plain": [
              "[-3.125, -2.125, -1.125, 0.875, -0.125, 0.875, 1.875, 2.875]"
            ]
          },
          "metadata": {
            "tags": []
          },
          "execution_count": 17
        }
      ]
    },
    {
      "cell_type": "code",
      "metadata": {
        "id": "elenaPFjr2UR"
      },
      "source": [
        "def sum_of_squares(arr):\n",
        "  return sum([a**2 for a in arr])\n",
        "\n",
        "def variance(x):\n",
        "  n = len(x)\n",
        "  deviations = de_mean(x)\n",
        "  return sum_of_squares(deviations) / (n-1)"
      ],
      "execution_count": null,
      "outputs": []
    },
    {
      "cell_type": "code",
      "metadata": {
        "colab": {
          "base_uri": "https://localhost:8080/"
        },
        "id": "b-Tzzdmgssc3",
        "outputId": "67cee691-e905-4115-b4c8-451c7b36af8f"
      },
      "source": [
        "variance([1, 2,3, 5,4 ,5 ,6, 7 ])"
      ],
      "execution_count": null,
      "outputs": [
        {
          "output_type": "execute_result",
          "data": {
            "text/plain": [
              "4.125"
            ]
          },
          "metadata": {
            "tags": []
          },
          "execution_count": 21
        }
      ]
    },
    {
      "cell_type": "markdown",
      "metadata": {
        "id": "rLULWvuvsuyb"
      },
      "source": [
        "Why use n-1 instead of n?"
      ]
    },
    {
      "cell_type": "code",
      "metadata": {
        "id": "230MVTnTv_tm"
      },
      "source": [
        "import math"
      ],
      "execution_count": null,
      "outputs": []
    },
    {
      "cell_type": "code",
      "metadata": {
        "id": "QtQirWKuvuKK"
      },
      "source": [
        "def standard_deviation(x):\n",
        "  return math.sqrt(variance(x))"
      ],
      "execution_count": null,
      "outputs": []
    },
    {
      "cell_type": "code",
      "metadata": {
        "colab": {
          "base_uri": "https://localhost:8080/"
        },
        "id": "nO0PtiLTv7sC",
        "outputId": "7fd728d2-8103-4994-bc6d-c3abceac683a"
      },
      "source": [
        "standard_deviation([1, 2,3, 5,4 ,5 ,6, 7 ])"
      ],
      "execution_count": null,
      "outputs": [
        {
          "output_type": "execute_result",
          "data": {
            "text/plain": [
              "2.03100960115899"
            ]
          },
          "metadata": {
            "tags": []
          },
          "execution_count": 27
        }
      ]
    },
    {
      "cell_type": "markdown",
      "metadata": {
        "id": "1MRwwRyOv8m5"
      },
      "source": [
        "Standard deviation has the same outlier problem as in range. An outlier can significantly change the standard deviation value.\n",
        "\n",
        "An alternative is to compute the difference between 75th and 25th percentile value."
      ]
    },
    {
      "cell_type": "code",
      "metadata": {
        "colab": {
          "base_uri": "https://localhost:8080/"
        },
        "id": "ERmMzmN6w4Cw",
        "outputId": "c4a6ae86-1c9a-48fe-c051-9ac79a117bc8"
      },
      "source": [
        "print(standard_deviation([1, 2,3, 5,4 ,5 ,6, 7 ]))\n",
        "print(standard_deviation([1, 2,3, 5,4 ,5 ,6, 7, 100 ]))"
      ],
      "execution_count": null,
      "outputs": [
        {
          "output_type": "stream",
          "text": [
            "2.03100960115899\n",
            "32.0147535433969\n"
          ],
          "name": "stdout"
        }
      ]
    },
    {
      "cell_type": "markdown",
      "metadata": {
        "id": "asnYEmEmwX82"
      },
      "source": [
        "#### Interquantile range\n",
        "\n",
        "It is the difference between 75th and 25th percentile values of the given data. It is less susceptible to outlier problem/"
      ]
    },
    {
      "cell_type": "code",
      "metadata": {
        "id": "zJVfL58jwlwM"
      },
      "source": [
        "def interquantile_range(x):\n",
        "  percentile_25th = quantile(x, 0.25)\n",
        "  percentile_75th = quantile(x, 0.75)\n",
        "  return percentile_75th - percentile_25th"
      ],
      "execution_count": null,
      "outputs": []
    },
    {
      "cell_type": "code",
      "metadata": {
        "colab": {
          "base_uri": "https://localhost:8080/"
        },
        "id": "ZKLTERlBw2Oo",
        "outputId": "fdfa7c35-c18e-42ea-eba5-41c97f53bfa2"
      },
      "source": [
        "print(interquantile_range([1, 2,3, 5,4 ,5 ,6, 7 ]))\n",
        "print(interquantile_range([1, 2,3, 5,4 ,5 ,6, 7, 100 ]))"
      ],
      "execution_count": null,
      "outputs": [
        {
          "output_type": "stream",
          "text": [
            "3\n",
            "3\n"
          ],
          "name": "stdout"
        }
      ]
    },
    {
      "cell_type": "markdown",
      "metadata": {
        "id": "a5QrPNr1xABJ"
      },
      "source": [
        "# Correlation\n",
        "\n"
      ]
    },
    {
      "cell_type": "code",
      "metadata": {
        "id": "V8UCPs-g0USh"
      },
      "source": [
        "num_friends = [2 ,3 , 2, 4, 20, 10 , 8, 13, 11, 9, 100]\n",
        "daily_minutes = [10, 10 , 10, 20, 25, 10, 30, 100, 20, 30]"
      ],
      "execution_count": null,
      "outputs": []
    },
    {
      "cell_type": "code",
      "metadata": {
        "id": "zISYgRjm0IzM"
      },
      "source": [
        "# Function to compute dot product\n",
        "def dot(x, y):\n",
        "  return sum([xi * yi for xi, yi in zip(x, y)])\n",
        "\n",
        "# Function to compute covariance\n",
        "def covariance(x, y):\n",
        "  n = len(x)\n",
        "  return dot(de_mean(x), de_mean(y)) / (n - 1)"
      ],
      "execution_count": null,
      "outputs": []
    },
    {
      "cell_type": "code",
      "metadata": {
        "colab": {
          "base_uri": "https://localhost:8080/"
        },
        "id": "NmFPwzMt0SOM",
        "outputId": "3c87c827-cf24-4f51-ac55-7eaaeda57a07"
      },
      "source": [
        "covariance(num_friends, daily_minutes)"
      ],
      "execution_count": null,
      "outputs": [
        {
          "output_type": "execute_result",
          "data": {
            "text/plain": [
              "60.70000000000001"
            ]
          },
          "metadata": {
            "tags": []
          },
          "execution_count": 45
        }
      ]
    },
    {
      "cell_type": "markdown",
      "metadata": {
        "id": "oB2jkBuk0pxW"
      },
      "source": [
        "Interpreting Covariance:\n",
        "\n",
        "1. A large positive number indicates a positive correlation (x tends to increase with y)\n",
        "2. A large negative number indicates a negative correlation (x tends to decrease with y)\n",
        "2. A close to 0 covariance indicates there's no correlation between x and y"
      ]
    },
    {
      "cell_type": "markdown",
      "metadata": {
        "id": "A3uTiNPh15RQ"
      },
      "source": [
        "Problems with Covariance:\n",
        "\n",
        "* It does not have an interpretable unit. In our example , 'number of friends' and 'daily minutes' . The unit of covariance is 'num friends daily minutes' which really doesn't mean anything\n",
        "* It does not account for deviation. If all users had twice the friends, with same daily minutes, the covariance would be larger. However, the relation is actually the same.\n",
        "\n",
        "For the above reasons we look at `correlation` which takes into account the standard deviation of both variables"
      ]
    },
    {
      "cell_type": "code",
      "metadata": {
        "id": "kh7MPsre24nf"
      },
      "source": [
        "def correlation(x, y):\n",
        "  stddev_x = standard_deviation(x)\n",
        "  stddev_y = standard_deviation(y)\n",
        "  if stddev_x > 0 and stddev_y > 0:\n",
        "    return covariance(x, y) / stddev_x / stddev_y\n",
        "  else:\n",
        "    return 0 # If deviation is 0 there's no correlation\n",
        "  "
      ],
      "execution_count": null,
      "outputs": []
    },
    {
      "cell_type": "code",
      "metadata": {
        "colab": {
          "base_uri": "https://localhost:8080/"
        },
        "id": "IDarDGa23PlW",
        "outputId": "4c4de4c6-ca7e-43e3-a18b-16aab1480c90"
      },
      "source": [
        "correlation(num_friends, daily_minutes)"
      ],
      "execution_count": null,
      "outputs": [
        {
          "output_type": "execute_result",
          "data": {
            "text/plain": [
              "0.07944901270627079"
            ]
          },
          "metadata": {
            "tags": []
          },
          "execution_count": 47
        }
      ]
    },
    {
      "cell_type": "code",
      "metadata": {
        "colab": {
          "base_uri": "https://localhost:8080/"
        },
        "id": "xyQF8Gbl3Siw",
        "outputId": "e1f28b88-5791-444f-f1a0-2bf4df792c91"
      },
      "source": [
        "# If each user had twice as friends\n",
        "correlation([n * 2 for n in num_friends], daily_minutes)"
      ],
      "execution_count": null,
      "outputs": [
        {
          "output_type": "execute_result",
          "data": {
            "text/plain": [
              "0.07944901270627079"
            ]
          },
          "metadata": {
            "tags": []
          },
          "execution_count": 54
        }
      ]
    },
    {
      "cell_type": "markdown",
      "metadata": {
        "id": "8N-wsEmg2uqn"
      },
      "source": [
        "Correlation is unitless and always lies between +1 (perfect positive correlation) and -1 (perfect negative correlation).\n",
        "\n",
        "Value such as 0.2 indicates a weak positive correlation.\n",
        "\n",
        "By that sense, correlation between num_friends and daily minutes seem to be weak `0.08` but on examining the data we see there's an outlier.\n",
        "\n",
        "A person has 100 friends but spends only 20 minutes a day. And correlation is very sensitive to outliers.\n",
        "\n",
        "Let's examine correlation after removing this outlier"
      ]
    },
    {
      "cell_type": "code",
      "metadata": {
        "colab": {
          "base_uri": "https://localhost:8080/"
        },
        "id": "eDg6TfpA14JE",
        "outputId": "4da7eb3b-8b8d-4cd1-eaf2-67a1ef5b683a"
      },
      "source": [
        "correlation(num_friends[:-1], daily_minutes[:-1])"
      ],
      "execution_count": null,
      "outputs": [
        {
          "output_type": "execute_result",
          "data": {
            "text/plain": [
              "0.4079645914642422"
            ]
          },
          "metadata": {
            "tags": []
          },
          "execution_count": 56
        }
      ]
    },
    {
      "cell_type": "markdown",
      "metadata": {
        "id": "RPilJy1A0ta2"
      },
      "source": [
        "There's seem to be a good positive correlation between number of friends and daily minutes spent "
      ]
    },
    {
      "cell_type": "markdown",
      "metadata": {
        "id": "dz9e0j8L4jmX"
      },
      "source": [
        "# Simpson's paradox \n",
        "\n",
        "# Correlation does not equal Causation\n",
        "\n",
        "# Correlation does not indicate how large a relation is"
      ]
    },
    {
      "cell_type": "code",
      "metadata": {
        "id": "1OuuK_bN03QM"
      },
      "source": [
        ""
      ],
      "execution_count": null,
      "outputs": []
    },
    {
      "cell_type": "code",
      "metadata": {
        "id": "CsWwdkzn0TDa"
      },
      "source": [
        ""
      ],
      "execution_count": null,
      "outputs": []
    }
  ]
}