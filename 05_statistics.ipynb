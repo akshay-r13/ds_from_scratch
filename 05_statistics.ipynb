{
  "nbformat": 4,
  "nbformat_minor": 0,
  "metadata": {
    "colab": {
      "name": "05_statistics.ipynb",
      "provenance": [],
      "collapsed_sections": [],
      "toc_visible": true,
      "authorship_tag": "ABX9TyOj/AgGKZKi/qHdxuwSoVB5",
      "include_colab_link": true
    },
    "kernelspec": {
      "name": "python3",
      "display_name": "Python 3"
    },
    "language_info": {
      "name": "python"
    }
  },
  "cells": [
    {
      "cell_type": "markdown",
      "metadata": {
        "id": "view-in-github",
        "colab_type": "text"
      },
      "source": [
        "<a href=\"https://colab.research.google.com/github/akshay-r13/ds_from_scratch/blob/main/05_statistics.ipynb\" target=\"_parent\"><img src=\"https://colab.research.google.com/assets/colab-badge.svg\" alt=\"Open In Colab\"/></a>"
      ]
    },
    {
      "cell_type": "markdown",
      "metadata": {
        "id": "6ZPq1zySdh3W"
      },
      "source": [
        "# Statistics\n",
        "\n",
        "Statistics refers to the mathematics and techniques we use to understand data."
      ]
    },
    {
      "cell_type": "markdown",
      "metadata": {
        "id": "EXbnzZo_d0Q1"
      },
      "source": [
        "## Describing a single set of data"
      ]
    },
    {
      "cell_type": "markdown",
      "metadata": {
        "id": "v5jyfBKW9cxd"
      },
      "source": [
        "\n",
        "### Central tendencies\n",
        "\n",
        "The central tendencies are \n",
        "1. mean\n",
        "2. median\n",
        "3. quantile"
      ]
    },
    {
      "cell_type": "markdown",
      "metadata": {
        "id": "hfuv5JGjfGTq"
      },
      "source": [
        "#### Mean\n",
        "\n",
        "Mean gives us a notion of where the data is centred"
      ]
    },
    {
      "cell_type": "code",
      "metadata": {
        "id": "xW5f7BMoepKt"
      },
      "source": [
        "# Compute mean of several data points\n",
        "def mean(x):\n",
        "  return sum(x) / len(x)"
      ],
      "execution_count": 1,
      "outputs": []
    },
    {
      "cell_type": "code",
      "metadata": {
        "colab": {
          "base_uri": "https://localhost:8080/"
        },
        "id": "PlSp72A_e1Yb",
        "outputId": "fd98b023-ed37-42d1-e617-e624c1692c51"
      },
      "source": [
        "num_friends = [100, 49, 41, 40, 25]\n",
        "mean(num_friends)"
      ],
      "execution_count": 2,
      "outputs": [
        {
          "output_type": "execute_result",
          "data": {
            "text/plain": [
              "51.0"
            ]
          },
          "metadata": {
            "tags": []
          },
          "execution_count": 2
        }
      ]
    },
    {
      "cell_type": "markdown",
      "metadata": {
        "id": "tvVzvAWbfb0R"
      },
      "source": [
        "> Mean of the data **depends on every data point in the dataset**"
      ]
    },
    {
      "cell_type": "markdown",
      "metadata": {
        "id": "Hs4CA4bZfA6X"
      },
      "source": [
        "#### Median\n",
        "\n",
        "Median of the data is the middle most value (or) the average of the 2 middle values of sorted data."
      ]
    },
    {
      "cell_type": "code",
      "metadata": {
        "id": "bBDqqMyYJOP8"
      },
      "source": [
        "# Function to compute median\n",
        "\n",
        "def median(x):\n",
        "  n = len(x)\n",
        "  sorted_x = sorted(x)\n",
        "  midpoint = n // 2\n",
        "\n",
        "  # If length of x is odd\n",
        "  if n % 2 != 0:\n",
        "    return sorted_x[midpoint]\n",
        "  else:\n",
        "    return (sorted_x[midpoint-1] + sorted_x[midpoint]) / 2"
      ],
      "execution_count": 5,
      "outputs": []
    },
    {
      "cell_type": "code",
      "metadata": {
        "colab": {
          "base_uri": "https://localhost:8080/"
        },
        "id": "O4eM67XGLGFG",
        "outputId": "d20d7381-44fc-4378-ca19-e0557960e912"
      },
      "source": [
        "median(num_friends)"
      ],
      "execution_count": 7,
      "outputs": [
        {
          "output_type": "execute_result",
          "data": {
            "text/plain": [
              "41"
            ]
          },
          "metadata": {
            "tags": []
          },
          "execution_count": 7
        }
      ]
    },
    {
      "cell_type": "code",
      "metadata": {
        "colab": {
          "base_uri": "https://localhost:8080/"
        },
        "id": "ju8UnVJO55Kw",
        "outputId": "7f878ec3-c705-4293-b4f4-59bd07442006"
      },
      "source": [
        "median([1, 3, 4, 10, 12])"
      ],
      "execution_count": 8,
      "outputs": [
        {
          "output_type": "execute_result",
          "data": {
            "text/plain": [
              "4"
            ]
          },
          "metadata": {
            "tags": []
          },
          "execution_count": 8
        }
      ]
    },
    {
      "cell_type": "code",
      "metadata": {
        "colab": {
          "base_uri": "https://localhost:8080/"
        },
        "id": "p5tcnaL158Iw",
        "outputId": "3b6d2137-9839-4dc2-c840-6128f7975aa4"
      },
      "source": [
        "median([1, 3, 4, 7, 10, 12])"
      ],
      "execution_count": 9,
      "outputs": [
        {
          "output_type": "execute_result",
          "data": {
            "text/plain": [
              "5.5"
            ]
          },
          "metadata": {
            "tags": []
          },
          "execution_count": 9
        }
      ]
    },
    {
      "cell_type": "markdown",
      "metadata": {
        "id": "E_fSJ-MHLHQk"
      },
      "source": [
        "The prerequisite to finding the median is sorting the data.\n",
        "\n",
        "Also mean changes with every change in values in data. However median may not. By changing our dataset by a small value `e`, the median may\n",
        "1. remain the same\n",
        "2. Increase by `e`\n",
        "3. or increase by a value less than `e`"
      ]
    },
    {
      "cell_type": "markdown",
      "metadata": {
        "id": "Q0LkfmYyL5S_"
      },
      "source": [
        "> The mean is **highly sensitive to outliers**. However, the median is not as sensitive."
      ]
    },
    {
      "cell_type": "markdown",
      "metadata": {
        "id": "saCq7x3OMG_H"
      },
      "source": [
        "#### Quantile\n",
        "\n",
        "Quantile is a generalization of Median. It denotes **the value less than which a percentage of data exists**.\n",
        "\n",
        "The **median is the 50th quantile**"
      ]
    },
    {
      "cell_type": "code",
      "metadata": {
        "id": "2j5QqOhW6ubd"
      },
      "source": [
        "def quantile(x, p):\n",
        "  n = len(x)\n",
        "  p_index = int(n * p)\n",
        "  sorted_x = sorted(x)\n",
        "  return sorted_x[p_index]"
      ],
      "execution_count": 14,
      "outputs": []
    },
    {
      "cell_type": "code",
      "metadata": {
        "colab": {
          "base_uri": "https://localhost:8080/"
        },
        "id": "H2UwC5Mq6-i1",
        "outputId": "7378bbeb-f650-4e47-f4ff-d46ba1407bdb"
      },
      "source": [
        "print(quantile([1, 2, 3, 4, 5, 6, 7, 8, 9, 10], 0.5))\n",
        "print(quantile([1, 2, 3, 4, 5, 6, 7, 8, 9, 10], 0.9))\n",
        "print(quantile([1, 2, 3, 4, 5, 6, 7, 8, 9, 10], 0.4))\n",
        "print(quantile([1, 2, 3, 4, 5, 6, 7, 8, 9, 10], 0.3))"
      ],
      "execution_count": 17,
      "outputs": [
        {
          "output_type": "stream",
          "text": [
            "6\n",
            "10\n",
            "5\n",
            "4\n"
          ],
          "name": "stdout"
        }
      ]
    },
    {
      "cell_type": "code",
      "metadata": {
        "id": "85mZ7QIKMAfr",
        "colab": {
          "base_uri": "https://localhost:8080/"
        },
        "outputId": "f786af42-4c94-476e-9248-d25b734ea560"
      },
      "source": [
        "print(quantile([1, 2, 3, 4, 5, 6, 7, 8, 9], 0.5))\n",
        "print(median([1, 2, 3, 4, 5, 6, 7, 8, 9]))"
      ],
      "execution_count": 21,
      "outputs": [
        {
          "output_type": "stream",
          "text": [
            "5\n",
            "5\n"
          ],
          "name": "stdout"
        }
      ]
    },
    {
      "cell_type": "markdown",
      "metadata": {
        "id": "M3PHAHqE7s3l"
      },
      "source": [
        "#### Mode\n",
        "\n",
        "Mode refers to the **most frequently occuring value in a dataset**"
      ]
    },
    {
      "cell_type": "code",
      "metadata": {
        "id": "c6JRuVtL79C5"
      },
      "source": [
        "from collections import Counter"
      ],
      "execution_count": 23,
      "outputs": []
    },
    {
      "cell_type": "code",
      "metadata": {
        "id": "6o8cHaI98Agp"
      },
      "source": [
        ""
      ],
      "execution_count": 23,
      "outputs": []
    },
    {
      "cell_type": "code",
      "metadata": {
        "id": "2Y66ZBTuLlTc"
      },
      "source": [
        "def mode(x):\n",
        "  c = Counter(x)\n",
        "  max_count = max(c.values())\n",
        "  return [x for x, count in c.items() if count == max_count]\n",
        "\n"
      ],
      "execution_count": 33,
      "outputs": []
    },
    {
      "cell_type": "code",
      "metadata": {
        "colab": {
          "base_uri": "https://localhost:8080/"
        },
        "id": "L49kgKFg8KyP",
        "outputId": "6e2e8350-f529-4ac4-9ac4-5678db765b9a"
      },
      "source": [
        "mode([1, 3, 1, 2, 3, 4 ,3 ,5, 3, 4, 1, 1])"
      ],
      "execution_count": 37,
      "outputs": [
        {
          "output_type": "execute_result",
          "data": {
            "text/plain": [
              "[1, 3]"
            ]
          },
          "metadata": {
            "tags": []
          },
          "execution_count": 37
        }
      ]
    },
    {
      "cell_type": "code",
      "metadata": {
        "id": "dbWnuisP8ACq"
      },
      "source": [
        ""
      ],
      "execution_count": 37,
      "outputs": []
    },
    {
      "cell_type": "markdown",
      "metadata": {
        "id": "IbiYJSTs8hnO"
      },
      "source": [
        "### Dispersion\n",
        "\n",
        "Dispersion refers to the measure of how spread out data is. \n",
        "Typicall, values close to 0 indicate no dispersion and large values indicate a large spread of data.\n",
        "\n",
        "Some measures of dispersion are:\n",
        "1. Range\n",
        "2. Variance\n",
        "3. Standard deviation\n",
        "4. Inter quantile range\n",
        "\n",
        "\n"
      ]
    },
    {
      "cell_type": "markdown",
      "metadata": {
        "id": "zZnjL-GC-ebY"
      },
      "source": [
        "#### Range\n",
        "\n",
        "Range simply refers to the difference between the max and min value of a dataset"
      ]
    },
    {
      "cell_type": "code",
      "metadata": {
        "id": "ChE14Yvq-j8S"
      },
      "source": [
        "def range(x):\n",
        "  sorted_x = sorted(x)\n",
        "  return sorted_x[-1] - sorted_x[0]"
      ],
      "execution_count": 39,
      "outputs": []
    },
    {
      "cell_type": "code",
      "metadata": {
        "colab": {
          "base_uri": "https://localhost:8080/"
        },
        "id": "4JFr0J1y-p9D",
        "outputId": "57768cc8-9c13-4099-9a5b-0fbcd3ffd986"
      },
      "source": [
        "range([1, 12, 1, 3, 5 , 5, 10 , 8])"
      ],
      "execution_count": 41,
      "outputs": [
        {
          "output_type": "execute_result",
          "data": {
            "text/plain": [
              "11"
            ]
          },
          "metadata": {
            "tags": []
          },
          "execution_count": 41
        }
      ]
    },
    {
      "cell_type": "markdown",
      "metadata": {
        "id": "-nr_SJYr-v7B"
      },
      "source": [
        "Range is very sensitive to outliers. For example:"
      ]
    },
    {
      "cell_type": "code",
      "metadata": {
        "colab": {
          "base_uri": "https://localhost:8080/"
        },
        "id": "2vYVF42E-1Tn",
        "outputId": "065acd78-6dff-4ce2-a830-b05cd9183d72"
      },
      "source": [
        "range([0.001, 0.002, 0.006, 0.009, 100])"
      ],
      "execution_count": 42,
      "outputs": [
        {
          "output_type": "execute_result",
          "data": {
            "text/plain": [
              "99.999"
            ]
          },
          "metadata": {
            "tags": []
          },
          "execution_count": 42
        }
      ]
    },
    {
      "cell_type": "markdown",
      "metadata": {
        "id": "_bMaJrYs9lqn"
      },
      "source": [
        "#### Variance\n",
        "\n",
        "A more complex measurement of dispersion. Variance is defined as\n",
        "\n",
        "  $\\sigma^2 = \\frac{\\displaystyle\\sum_{i=1}^{n}(x_i - \\mu)^2} {n}$"
      ]
    },
    {
      "cell_type": "code",
      "metadata": {
        "id": "SBNe7vZL_I-x"
      },
      "source": [
        ""
      ],
      "execution_count": null,
      "outputs": []
    }
  ]
}