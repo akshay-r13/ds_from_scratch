{
  "nbformat": 4,
  "nbformat_minor": 0,
  "metadata": {
    "colab": {
      "name": "17_Decision_Trees.ipynb",
      "provenance": [],
      "collapsed_sections": [],
      "authorship_tag": "ABX9TyNH5m5WFityrHJsogFeUzKX",
      "include_colab_link": true
    },
    "kernelspec": {
      "name": "python3",
      "display_name": "Python 3"
    },
    "language_info": {
      "name": "python"
    }
  },
  "cells": [
    {
      "cell_type": "markdown",
      "metadata": {
        "id": "view-in-github",
        "colab_type": "text"
      },
      "source": [
        "<a href=\"https://colab.research.google.com/github/akshay-r13/ds_from_scratch/blob/main/17_Decision_Trees.ipynb\" target=\"_parent\"><img src=\"https://colab.research.google.com/assets/colab-badge.svg\" alt=\"Open In Colab\"/></a>"
      ]
    },
    {
      "cell_type": "markdown",
      "metadata": {
        "id": "XIEkxo7xG4YJ"
      },
      "source": [
        "# Chapter 17 - Decision Trees\n",
        "\n",
        "## What is a Decision Tree?\n",
        "\n",
        "A decision tree uses a tree structure to represent a number of possible decision paths and the corresponding outcome for each path."
      ]
    },
    {
      "cell_type": "code",
      "metadata": {
        "id": "jXbjD1gWKf_r"
      },
      "source": [
        "import math"
      ],
      "execution_count": 1,
      "outputs": []
    },
    {
      "cell_type": "code",
      "metadata": {
        "id": "YuPNoRPRHmsU"
      },
      "source": [
        "\n",
        "# Function to compute entropy\n",
        "\n",
        "def entropy(class_probabilities):\n",
        "  return sum( -p * math.log(p, 2) \n",
        "              for p in class_probabilities\n",
        "              if p != 0 # to avoid calculating log(0) = infinity\n",
        "             )"
      ],
      "execution_count": 11,
      "outputs": []
    },
    {
      "cell_type": "code",
      "metadata": {
        "colab": {
          "base_uri": "https://localhost:8080/"
        },
        "id": "ffQDV5zFKo3-",
        "outputId": "3e44058c-54a3-417f-c616-6d01a7ba8981"
      },
      "source": [
        "entropy([0, 0, 0, 1])"
      ],
      "execution_count": 12,
      "outputs": [
        {
          "output_type": "execute_result",
          "data": {
            "text/plain": [
              "0.0"
            ]
          },
          "metadata": {
            "tags": []
          },
          "execution_count": 12
        }
      ]
    },
    {
      "cell_type": "code",
      "metadata": {
        "id": "FAx83kS4LsN3"
      },
      "source": [
        "from collections import Counter"
      ],
      "execution_count": 13,
      "outputs": []
    },
    {
      "cell_type": "code",
      "metadata": {
        "id": "JTLU1ACTKqlW"
      },
      "source": [
        "# Function to compute class probabilities\n",
        "\n",
        "def class_probabilities(labels):\n",
        "  total_count = len(labels) # Total count of labels\n",
        "  return [label_count / total_count for label_count in Counter(labels).values()]"
      ],
      "execution_count": 14,
      "outputs": []
    },
    {
      "cell_type": "code",
      "metadata": {
        "colab": {
          "base_uri": "https://localhost:8080/"
        },
        "id": "rp4t3kjgLt9j",
        "outputId": "859478f2-a966-4b7e-fd41-ad8789c8c118"
      },
      "source": [
        "class_probabilities(['a', 'a', 'a', 'b'])"
      ],
      "execution_count": 16,
      "outputs": [
        {
          "output_type": "execute_result",
          "data": {
            "text/plain": [
              "[0.75, 0.25]"
            ]
          },
          "metadata": {
            "tags": []
          },
          "execution_count": 16
        }
      ]
    },
    {
      "cell_type": "code",
      "metadata": {
        "id": "jsiQb9jgK4wm"
      },
      "source": [
        "def data_entropy(labelled_data):\n",
        "  labels = [label for _, label in labelled_data]\n",
        "  class_probs = class_probabilities(labels)\n",
        "  return entropy(class_probs)\n"
      ],
      "execution_count": 17,
      "outputs": []
    },
    {
      "cell_type": "code",
      "metadata": {
        "id": "bdYOhdJ9MRxB"
      },
      "source": [
        "# Function to compute partition entropy\n",
        "\n",
        "def partition_entropy(subsets):\n",
        "  total_count = sum(len(subset) for subset in subsets)\n",
        "\n",
        "  sum = 0\n",
        "  return sum( (len(subset) / total_count) * data_entropy(subset) # compute weighted entropy\n",
        "              for subset in subsets) # Iterate each subset\n",
        "    "
      ],
      "execution_count": 18,
      "outputs": []
    },
    {
      "cell_type": "markdown",
      "metadata": {
        "id": "fcxKzyzNNmND"
      },
      "source": [
        "## Creating a Decision Tree"
      ]
    },
    {
      "cell_type": "code",
      "metadata": {
        "id": "wiUT0Q_gN7mR"
      },
      "source": [
        "inputs = [\n",
        "  ({'level':'Senior', 'lang':'Java', 'tweets':'no', 'phd':'no'},\n",
        "  False),\n",
        "  ({'level':'Senior', 'lang':'Java', 'tweets':'no', 'phd':'yes'},\n",
        "  False),\n",
        "  ({'level':'Mid', 'lang':'Python', 'tweets':'no', 'phd':'no'},\n",
        "  True),\n",
        "  ({'level':'Junior', 'lang':'Python', 'tweets':'no', 'phd':'no'},\n",
        "  True),\n",
        "  ({'level':'Junior', 'lang':'R', 'tweets':'yes', 'phd':'no'},\n",
        "  True),\n",
        "  ({'level':'Junior', 'lang':'R', 'tweets':'yes', 'phd':'yes'},\n",
        "  False),\n",
        "  ({'level':'Mid', 'lang':'R', 'tweets':'yes', 'phd':'yes'},\n",
        "  True),\n",
        "  ({'level':'Senior', 'lang':'Python', 'tweets':'no', 'phd':'no'}, False),\n",
        "  ({'level':'Senior', 'lang':'R', 'tweets':'yes', 'phd':'no'},\n",
        "  True),\n",
        "  ({'level':'Junior', 'lang':'Python', 'tweets':'yes', 'phd':'no'}, True),\n",
        "  ({'level':'Senior', 'lang':'Python', 'tweets':'yes', 'phd':'yes'}, True),\n",
        "  ({'level':'Mid', 'lang':'Python', 'tweets':'no', 'phd':'yes'},\n",
        "  True),\n",
        "  ({'level':'Mid', 'lang':'Java', 'tweets':'yes', 'phd':'no'},\n",
        "  True),\n",
        "  ({'level':'Junior', 'lang':'Python', 'tweets':'no', 'phd':'yes'}, False)\n",
        "]"
      ],
      "execution_count": 19,
      "outputs": []
    },
    {
      "cell_type": "code",
      "metadata": {
        "id": "NrMxIIWXN8z7"
      },
      "source": [
        ""
      ],
      "execution_count": null,
      "outputs": []
    }
  ]
}