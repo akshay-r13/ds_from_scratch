{
  "nbformat": 4,
  "nbformat_minor": 0,
  "metadata": {
    "colab": {
      "name": "17_Decision_Trees.ipynb",
      "provenance": [],
      "collapsed_sections": [],
      "authorship_tag": "ABX9TyPyOhpYus0RTPg7LFR8DoRs",
      "include_colab_link": true
    },
    "kernelspec": {
      "name": "python3",
      "display_name": "Python 3"
    },
    "language_info": {
      "name": "python"
    }
  },
  "cells": [
    {
      "cell_type": "markdown",
      "metadata": {
        "id": "view-in-github",
        "colab_type": "text"
      },
      "source": [
        "<a href=\"https://colab.research.google.com/github/akshay-r13/ds_from_scratch/blob/main/17_Decision_Trees.ipynb\" target=\"_parent\"><img src=\"https://colab.research.google.com/assets/colab-badge.svg\" alt=\"Open In Colab\"/></a>"
      ]
    },
    {
      "cell_type": "markdown",
      "metadata": {
        "id": "XIEkxo7xG4YJ"
      },
      "source": [
        "# Chapter 17 - Decision Trees\n",
        "\n",
        "## What is a Decision Tree?\n",
        "\n",
        "A decision tree uses a tree structure to represent a number of possible decision paths and the corresponding outcome for each path."
      ]
    },
    {
      "cell_type": "code",
      "metadata": {
        "id": "jXbjD1gWKf_r"
      },
      "source": [
        "import math"
      ],
      "execution_count": 1,
      "outputs": []
    },
    {
      "cell_type": "code",
      "metadata": {
        "id": "YuPNoRPRHmsU"
      },
      "source": [
        "\n",
        "# Function to compute entropy\n",
        "\n",
        "def entropy(class_probabilities):\n",
        "  return sum( -p * math.log(p, 2) \n",
        "              for p in class_probabilities\n",
        "              if p != 0 # to avoid calculating log(0) = infinity\n",
        "             )"
      ],
      "execution_count": 2,
      "outputs": []
    },
    {
      "cell_type": "code",
      "metadata": {
        "colab": {
          "base_uri": "https://localhost:8080/"
        },
        "id": "ffQDV5zFKo3-",
        "outputId": "b2ea229b-432c-482f-de4c-bb91bec3e264"
      },
      "source": [
        "entropy([0, 0, 0, 1])"
      ],
      "execution_count": 3,
      "outputs": [
        {
          "output_type": "execute_result",
          "data": {
            "text/plain": [
              "0.0"
            ]
          },
          "metadata": {
            "tags": []
          },
          "execution_count": 3
        }
      ]
    },
    {
      "cell_type": "code",
      "metadata": {
        "id": "FAx83kS4LsN3"
      },
      "source": [
        "from collections import Counter"
      ],
      "execution_count": 4,
      "outputs": []
    },
    {
      "cell_type": "code",
      "metadata": {
        "id": "JTLU1ACTKqlW"
      },
      "source": [
        "# Function to compute class probabilities\n",
        "\n",
        "def class_probabilities(labels):\n",
        "  total_count = len(labels) # Total count of labels\n",
        "  return [label_count / total_count for label_count in Counter(labels).values()]"
      ],
      "execution_count": 5,
      "outputs": []
    },
    {
      "cell_type": "code",
      "metadata": {
        "colab": {
          "base_uri": "https://localhost:8080/"
        },
        "id": "rp4t3kjgLt9j",
        "outputId": "9b21006a-46b5-441b-bd14-575cbeaea634"
      },
      "source": [
        "class_probabilities(['a', 'a', 'a', 'b'])"
      ],
      "execution_count": 6,
      "outputs": [
        {
          "output_type": "execute_result",
          "data": {
            "text/plain": [
              "[0.75, 0.25]"
            ]
          },
          "metadata": {
            "tags": []
          },
          "execution_count": 6
        }
      ]
    },
    {
      "cell_type": "code",
      "metadata": {
        "id": "jsiQb9jgK4wm"
      },
      "source": [
        "def data_entropy(labelled_data):\n",
        "  labels = [label for _, label in labelled_data]\n",
        "  class_probs = class_probabilities(labels)\n",
        "  return entropy(class_probs)\n"
      ],
      "execution_count": 7,
      "outputs": []
    },
    {
      "cell_type": "code",
      "metadata": {
        "id": "bdYOhdJ9MRxB"
      },
      "source": [
        "# Function to compute partition entropy\n",
        "\n",
        "def partition_entropy(subsets):\n",
        "  total_count = sum(len(subset) for subset in subsets)\n",
        "\n",
        "  return sum( (len(subset) / total_count) * data_entropy(subset) # compute weighted entropy\n",
        "              for subset in subsets) # Iterate each subset\n",
        "    "
      ],
      "execution_count": 8,
      "outputs": []
    },
    {
      "cell_type": "markdown",
      "metadata": {
        "id": "fcxKzyzNNmND"
      },
      "source": [
        "## Creating a Decision Tree"
      ]
    },
    {
      "cell_type": "code",
      "metadata": {
        "id": "wiUT0Q_gN7mR"
      },
      "source": [
        "inputs = [\n",
        "  ({'level':'Senior', 'lang':'Java', 'tweets':'no', 'phd':'no'},\n",
        "  False),\n",
        "  ({'level':'Senior', 'lang':'Java', 'tweets':'no', 'phd':'yes'},\n",
        "  False),\n",
        "  ({'level':'Mid', 'lang':'Python', 'tweets':'no', 'phd':'no'},\n",
        "  True),\n",
        "  ({'level':'Junior', 'lang':'Python', 'tweets':'no', 'phd':'no'},\n",
        "  True),\n",
        "  ({'level':'Junior', 'lang':'R', 'tweets':'yes', 'phd':'no'},\n",
        "  True),\n",
        "  ({'level':'Junior', 'lang':'R', 'tweets':'yes', 'phd':'yes'},\n",
        "  False),\n",
        "  ({'level':'Mid', 'lang':'R', 'tweets':'yes', 'phd':'yes'},\n",
        "  True),\n",
        "  ({'level':'Senior', 'lang':'Python', 'tweets':'no', 'phd':'no'}, False),\n",
        "  ({'level':'Senior', 'lang':'R', 'tweets':'yes', 'phd':'no'},\n",
        "  True),\n",
        "  ({'level':'Junior', 'lang':'Python', 'tweets':'yes', 'phd':'no'}, True),\n",
        "  ({'level':'Senior', 'lang':'Python', 'tweets':'yes', 'phd':'yes'}, True),\n",
        "  ({'level':'Mid', 'lang':'Python', 'tweets':'no', 'phd':'yes'},\n",
        "  True),\n",
        "  ({'level':'Mid', 'lang':'Java', 'tweets':'yes', 'phd':'no'},\n",
        "  True),\n",
        "  ({'level':'Junior', 'lang':'Python', 'tweets':'no', 'phd':'yes'}, False)\n",
        "]"
      ],
      "execution_count": 9,
      "outputs": []
    },
    {
      "cell_type": "code",
      "metadata": {
        "id": "y3FW_IdQdUtO"
      },
      "source": [
        "from collections import defaultdict"
      ],
      "execution_count": 10,
      "outputs": []
    },
    {
      "cell_type": "code",
      "metadata": {
        "id": "NrMxIIWXN8z7"
      },
      "source": [
        "# Function to partition data by an attribute\n",
        "\n",
        "def partition_by(inputs, attribute):\n",
        "  groups = defaultdict(list)\n",
        "  for input in inputs:\n",
        "    groups[input[0][attribute]].append(input)\n",
        "  return groups"
      ],
      "execution_count": 11,
      "outputs": []
    },
    {
      "cell_type": "code",
      "metadata": {
        "id": "AiTPMBNudmro"
      },
      "source": [
        "# Function to compute partition entropy based on attribute\n",
        "\n",
        "def partition_entropy_by(inputs, attribute):\n",
        "  partitions = partition_by(inputs, attribute)\n",
        "  return partition_entropy(partitions.values())"
      ],
      "execution_count": 12,
      "outputs": []
    },
    {
      "cell_type": "code",
      "metadata": {
        "colab": {
          "base_uri": "https://localhost:8080/"
        },
        "id": "2tewMtEGd9P4",
        "outputId": "20430f6c-786e-46e2-ad91-f8284a95c461"
      },
      "source": [
        "partition_entropy_by(inputs, 'level')"
      ],
      "execution_count": 13,
      "outputs": [
        {
          "output_type": "execute_result",
          "data": {
            "text/plain": [
              "0.6935361388961918"
            ]
          },
          "metadata": {
            "tags": []
          },
          "execution_count": 13
        }
      ]
    },
    {
      "cell_type": "code",
      "metadata": {
        "colab": {
          "base_uri": "https://localhost:8080/"
        },
        "id": "aejaXgCSdQp0",
        "outputId": "14a48080-76c8-4993-ea7d-2eb8bf0ee882"
      },
      "source": [
        "for key in ['level', 'lang', 'phd', 'tweets']:\n",
        "  print(key, partition_entropy_by(inputs, key))"
      ],
      "execution_count": 14,
      "outputs": [
        {
          "output_type": "stream",
          "text": [
            "level 0.6935361388961918\n",
            "lang 0.8601317128547441\n",
            "phd 0.8921589282623617\n",
            "tweets 0.7884504573082896\n"
          ],
          "name": "stdout"
        }
      ]
    },
    {
      "cell_type": "code",
      "metadata": {
        "colab": {
          "base_uri": "https://localhost:8080/"
        },
        "id": "Utzs8StTePHg",
        "outputId": "141ae97d-abdb-446d-df48-e022c906a21d"
      },
      "source": [
        "partition_by(inputs, 'level')['Mid']"
      ],
      "execution_count": 15,
      "outputs": [
        {
          "output_type": "execute_result",
          "data": {
            "text/plain": [
              "[({'lang': 'Python', 'level': 'Mid', 'phd': 'no', 'tweets': 'no'}, True),\n",
              " ({'lang': 'R', 'level': 'Mid', 'phd': 'yes', 'tweets': 'yes'}, True),\n",
              " ({'lang': 'Python', 'level': 'Mid', 'phd': 'yes', 'tweets': 'no'}, True),\n",
              " ({'lang': 'Java', 'level': 'Mid', 'phd': 'no', 'tweets': 'yes'}, True)]"
            ]
          },
          "metadata": {
            "tags": []
          },
          "execution_count": 15
        }
      ]
    },
    {
      "cell_type": "code",
      "metadata": {
        "colab": {
          "base_uri": "https://localhost:8080/"
        },
        "id": "yvaL08nzewJ4",
        "outputId": "1f923dc9-ab0b-424e-c504-48547f988657"
      },
      "source": [
        "senior_inputs =  partition_by(inputs, 'level')['Senior']\n",
        "print(senior_inputs)"
      ],
      "execution_count": 16,
      "outputs": [
        {
          "output_type": "stream",
          "text": [
            "[({'level': 'Senior', 'lang': 'Java', 'tweets': 'no', 'phd': 'no'}, False), ({'level': 'Senior', 'lang': 'Java', 'tweets': 'no', 'phd': 'yes'}, False), ({'level': 'Senior', 'lang': 'Python', 'tweets': 'no', 'phd': 'no'}, False), ({'level': 'Senior', 'lang': 'R', 'tweets': 'yes', 'phd': 'no'}, True), ({'level': 'Senior', 'lang': 'Python', 'tweets': 'yes', 'phd': 'yes'}, True)]\n"
          ],
          "name": "stdout"
        }
      ]
    },
    {
      "cell_type": "code",
      "metadata": {
        "colab": {
          "base_uri": "https://localhost:8080/"
        },
        "id": "xzeVT3N1e2HF",
        "outputId": "157c72dd-ec94-41a7-b0ab-95e7569a37ef"
      },
      "source": [
        "for key in ['level', 'lang', 'phd', 'tweets']:\n",
        "  print(key, partition_entropy_by(senior_inputs, key))"
      ],
      "execution_count": 17,
      "outputs": [
        {
          "output_type": "stream",
          "text": [
            "level 0.9709505944546686\n",
            "lang 0.4\n",
            "phd 0.9509775004326937\n",
            "tweets 0.0\n"
          ],
          "name": "stdout"
        }
      ]
    },
    {
      "cell_type": "code",
      "metadata": {
        "id": "w5oBdo78eyMF"
      },
      "source": [
        ""
      ],
      "execution_count": 17,
      "outputs": []
    },
    {
      "cell_type": "markdown",
      "metadata": {
        "id": "_sM7BL36_1rq"
      },
      "source": [
        "## Putting it all together"
      ]
    },
    {
      "cell_type": "code",
      "metadata": {
        "colab": {
          "base_uri": "https://localhost:8080/"
        },
        "id": "Z-A2pf0uzwZZ",
        "outputId": "545a4856-6a09-4497-aa10-170749a3d915"
      },
      "source": [
        "inputs"
      ],
      "execution_count": 18,
      "outputs": [
        {
          "output_type": "execute_result",
          "data": {
            "text/plain": [
              "[({'lang': 'Java', 'level': 'Senior', 'phd': 'no', 'tweets': 'no'}, False),\n",
              " ({'lang': 'Java', 'level': 'Senior', 'phd': 'yes', 'tweets': 'no'}, False),\n",
              " ({'lang': 'Python', 'level': 'Mid', 'phd': 'no', 'tweets': 'no'}, True),\n",
              " ({'lang': 'Python', 'level': 'Junior', 'phd': 'no', 'tweets': 'no'}, True),\n",
              " ({'lang': 'R', 'level': 'Junior', 'phd': 'no', 'tweets': 'yes'}, True),\n",
              " ({'lang': 'R', 'level': 'Junior', 'phd': 'yes', 'tweets': 'yes'}, False),\n",
              " ({'lang': 'R', 'level': 'Mid', 'phd': 'yes', 'tweets': 'yes'}, True),\n",
              " ({'lang': 'Python', 'level': 'Senior', 'phd': 'no', 'tweets': 'no'}, False),\n",
              " ({'lang': 'R', 'level': 'Senior', 'phd': 'no', 'tweets': 'yes'}, True),\n",
              " ({'lang': 'Python', 'level': 'Junior', 'phd': 'no', 'tweets': 'yes'}, True),\n",
              " ({'lang': 'Python', 'level': 'Senior', 'phd': 'yes', 'tweets': 'yes'}, True),\n",
              " ({'lang': 'Python', 'level': 'Mid', 'phd': 'yes', 'tweets': 'no'}, True),\n",
              " ({'lang': 'Java', 'level': 'Mid', 'phd': 'no', 'tweets': 'yes'}, True),\n",
              " ({'lang': 'Python', 'level': 'Junior', 'phd': 'yes', 'tweets': 'no'}, False)]"
            ]
          },
          "metadata": {
            "tags": []
          },
          "execution_count": 18
        }
      ]
    },
    {
      "cell_type": "markdown",
      "metadata": {
        "id": "ODB493gm1p4E"
      },
      "source": [
        "### ID3 Algorithm\n",
        "\n",
        "1. If all labels in a partition are the same, create a leaf node predicting the label and finish.\n",
        "2. If there are no more features to split over, create a leaf node predicting the most common label in the partition and finish.\n",
        "3. Else split the data into partitions based on the features\n",
        "4. Compute entropy for each partition.\n",
        "5. Pick the feature which produces a partition with the least entropy\n",
        "6. Recursively create a subtree by splitting data into the chosen feature"
      ]
    },
    {
      "cell_type": "code",
      "metadata": {
        "colab": {
          "base_uri": "https://localhost:8080/"
        },
        "id": "AFiODDao4PSL",
        "outputId": "9f83cb30-4aff-4238-c8d6-511b0c2065e3"
      },
      "source": [
        "partition_entropy_by(inputs, 'lang')"
      ],
      "execution_count": 19,
      "outputs": [
        {
          "output_type": "execute_result",
          "data": {
            "text/plain": [
              "0.8601317128547441"
            ]
          },
          "metadata": {
            "tags": []
          },
          "execution_count": 19
        }
      ]
    },
    {
      "cell_type": "code",
      "metadata": {
        "id": "e-jWZK3Y0Txh"
      },
      "source": [
        "def build_tree_id3(inputs, split_candidates=None):\n",
        "\n",
        "  # split candidates are the features over which the data should be split.\n",
        "  # In the first run, it would be 'None' and data should be split over all the features\n",
        "  if split_candidates == None:\n",
        "    split_candidates = inputs[0][0].keys()\n",
        "  \n",
        "  # Count trues and falses in the input\n",
        "  num_inputs = len(inputs)\n",
        "  num_trues = len([input for input in inputs if input[1] == True])\n",
        "  num_falses = num_inputs - num_trues\n",
        "\n",
        "  if num_trues == 0: return False # If all are False return False\n",
        "  if num_falses == 0: return True # If all are True return True\n",
        "\n",
        "  if not split_candidates: # if no split candidates left\n",
        "    return num_trues >= num_falses # return most common\n",
        "\n",
        "  # Compute entropy for each split candidate\n",
        "  entropy_by_partition =  {attr:partition_entropy_by(inputs, attr) for attr in split_candidates}\n",
        "  # Pick the feature with least entropy\n",
        "  # print(entropy_by_partition)\n",
        "  best_attribute = min(entropy_by_partition, key=lambda k: entropy_by_partition[k])\n",
        "  # print(best_attribute)\n",
        "  # Partition based on best attribute\n",
        "  partitions = partition_by(inputs, best_attribute)\n",
        "\n",
        "  # create new candidates excluding the best attribute\n",
        "  new_candidates = [cand for cand in split_candidates if cand != best_attribute]\n",
        "\n",
        "  # split over the best attribute\n",
        "  subtrees = {attr_value: build_tree_id3(subset, new_candidates) for attr_value, subset in partitions.items()}\n",
        "\n",
        "  # default case to handle when subtree not available for feature\n",
        "  subtrees[None] = num_trues > num_falses\n",
        "\n",
        "  return (best_attribute, subtrees)\n",
        "\n",
        "\n"
      ],
      "execution_count": 20,
      "outputs": []
    },
    {
      "cell_type": "code",
      "metadata": {
        "colab": {
          "base_uri": "https://localhost:8080/"
        },
        "id": "XW_7RkOM6Bb_",
        "outputId": "14ea025b-735a-4755-8657-5ea16f44fbad"
      },
      "source": [
        "tree = build_tree_id3(inputs)\n",
        "tree"
      ],
      "execution_count": 21,
      "outputs": [
        {
          "output_type": "execute_result",
          "data": {
            "text/plain": [
              "('level',\n",
              " {'Junior': ('phd', {None: True, 'no': True, 'yes': False}),\n",
              "  'Mid': True,\n",
              "  None: True,\n",
              "  'Senior': ('tweets', {None: False, 'no': False, 'yes': True})})"
            ]
          },
          "metadata": {
            "tags": []
          },
          "execution_count": 21
        }
      ]
    },
    {
      "cell_type": "code",
      "metadata": {
        "id": "iPQxLzA44539"
      },
      "source": [
        ""
      ],
      "execution_count": 21,
      "outputs": []
    },
    {
      "cell_type": "code",
      "metadata": {
        "id": "QqACEU6MBeBh"
      },
      "source": [
        "# A function to classify based on the input\n",
        "def classify(tree, input):\n",
        "  # If leaf node, return value\n",
        "  if tree in [True, False]:\n",
        "    return tree\n",
        "\n",
        "  # Otherwise it is a tree where\n",
        "  # key = attribute on which node decision is mode\n",
        "  # value = subtree under the node\n",
        "\n",
        "  attribute, subtrees = tree\n",
        "\n",
        "  # to handle cases where attribute is not in input\n",
        "  subtree_key = input.get(attribute)\n",
        "  if subtree_key not in subtrees.keys():\n",
        "    subtree_key = None\n",
        "\n",
        "  # pick the corresponding subtree using the attribute value\n",
        "  subtree = subtrees[subtree_key]\n",
        "\n",
        "  return classify(subtree, input)\n",
        "\n"
      ],
      "execution_count": 22,
      "outputs": []
    },
    {
      "cell_type": "code",
      "metadata": {
        "colab": {
          "base_uri": "https://localhost:8080/"
        },
        "id": "zbLC_rD09GZl",
        "outputId": "aa37bccc-69ac-41ff-a9d3-ca6461377451"
      },
      "source": [
        "classify(tree, { \"level\" : \"Junior\",\n",
        "                 \"lang\" : \"Java\",\n",
        "                 \"tweets\" : \"yes\",\n",
        "                 \"phd\" : \"no\"} )        # True"
      ],
      "execution_count": 23,
      "outputs": [
        {
          "output_type": "execute_result",
          "data": {
            "text/plain": [
              "True"
            ]
          },
          "metadata": {
            "tags": []
          },
          "execution_count": 23
        }
      ]
    },
    {
      "cell_type": "code",
      "metadata": {
        "colab": {
          "base_uri": "https://localhost:8080/"
        },
        "id": "rrP2EUbJ9Kxb",
        "outputId": "9c254cd7-6fb5-448b-89a2-ffef01b680dc"
      },
      "source": [
        "classify(tree, { \"level\" : \"Junior\",\n",
        "                 \"lang\" : \"Java\",\n",
        "                 \"tweets\" : \"yes\",\n",
        "                 \"phd\" : \"yes\"} )       # False"
      ],
      "execution_count": 24,
      "outputs": [
        {
          "output_type": "execute_result",
          "data": {
            "text/plain": [
              "False"
            ]
          },
          "metadata": {
            "tags": []
          },
          "execution_count": 24
        }
      ]
    },
    {
      "cell_type": "code",
      "metadata": {
        "colab": {
          "base_uri": "https://localhost:8080/"
        },
        "id": "11rZRFki9N1j",
        "outputId": "e75df51a-5254-4679-d316-9eb240600fec"
      },
      "source": [
        "print(classify(tree, { \"level\" : \"Intern\" } )) # True\n",
        "print(classify(tree, { \"level\" : \"Senior\" } )) # False"
      ],
      "execution_count": 25,
      "outputs": [
        {
          "output_type": "stream",
          "text": [
            "True\n",
            "False\n"
          ],
          "name": "stdout"
        }
      ]
    },
    {
      "cell_type": "code",
      "metadata": {
        "colab": {
          "base_uri": "https://localhost:8080/"
        },
        "id": "7uqwtS7d_1sH",
        "outputId": "6554ccc3-cead-4d04-c0fd-68f965418a10"
      },
      "source": [
        "partition_by(inputs, 'lang')"
      ],
      "execution_count": 26,
      "outputs": [
        {
          "output_type": "execute_result",
          "data": {
            "text/plain": [
              "defaultdict(list,\n",
              "            {'Java': [({'lang': 'Java',\n",
              "                'level': 'Senior',\n",
              "                'phd': 'no',\n",
              "                'tweets': 'no'},\n",
              "               False),\n",
              "              ({'lang': 'Java',\n",
              "                'level': 'Senior',\n",
              "                'phd': 'yes',\n",
              "                'tweets': 'no'},\n",
              "               False),\n",
              "              ({'lang': 'Java', 'level': 'Mid', 'phd': 'no', 'tweets': 'yes'},\n",
              "               True)],\n",
              "             'Python': [({'lang': 'Python',\n",
              "                'level': 'Mid',\n",
              "                'phd': 'no',\n",
              "                'tweets': 'no'},\n",
              "               True),\n",
              "              ({'lang': 'Python',\n",
              "                'level': 'Junior',\n",
              "                'phd': 'no',\n",
              "                'tweets': 'no'},\n",
              "               True),\n",
              "              ({'lang': 'Python',\n",
              "                'level': 'Senior',\n",
              "                'phd': 'no',\n",
              "                'tweets': 'no'},\n",
              "               False),\n",
              "              ({'lang': 'Python',\n",
              "                'level': 'Junior',\n",
              "                'phd': 'no',\n",
              "                'tweets': 'yes'},\n",
              "               True),\n",
              "              ({'lang': 'Python',\n",
              "                'level': 'Senior',\n",
              "                'phd': 'yes',\n",
              "                'tweets': 'yes'},\n",
              "               True),\n",
              "              ({'lang': 'Python',\n",
              "                'level': 'Mid',\n",
              "                'phd': 'yes',\n",
              "                'tweets': 'no'},\n",
              "               True),\n",
              "              ({'lang': 'Python',\n",
              "                'level': 'Junior',\n",
              "                'phd': 'yes',\n",
              "                'tweets': 'no'},\n",
              "               False)],\n",
              "             'R': [({'lang': 'R',\n",
              "                'level': 'Junior',\n",
              "                'phd': 'no',\n",
              "                'tweets': 'yes'},\n",
              "               True),\n",
              "              ({'lang': 'R', 'level': 'Junior', 'phd': 'yes', 'tweets': 'yes'},\n",
              "               False),\n",
              "              ({'lang': 'R', 'level': 'Mid', 'phd': 'yes', 'tweets': 'yes'},\n",
              "               True),\n",
              "              ({'lang': 'R', 'level': 'Senior', 'phd': 'no', 'tweets': 'yes'},\n",
              "               True)]})"
            ]
          },
          "metadata": {
            "tags": []
          },
          "execution_count": 26
        }
      ]
    },
    {
      "cell_type": "code",
      "metadata": {
        "id": "R4PiMutI6usT"
      },
      "source": [
        ""
      ],
      "execution_count": null,
      "outputs": []
    },
    {
      "cell_type": "code",
      "metadata": {
        "id": "dDJY6xIEdTKy"
      },
      "source": [
        ""
      ],
      "execution_count": null,
      "outputs": []
    }
  ]
}