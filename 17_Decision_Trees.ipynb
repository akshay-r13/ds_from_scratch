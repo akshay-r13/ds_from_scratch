{
  "nbformat": 4,
  "nbformat_minor": 0,
  "metadata": {
    "colab": {
      "name": "17_Decision_Trees.ipynb",
      "provenance": [],
      "collapsed_sections": [],
      "authorship_tag": "ABX9TyM/ot5gxtrcvXdGJVNV1YrM",
      "include_colab_link": true
    },
    "kernelspec": {
      "name": "python3",
      "display_name": "Python 3"
    },
    "language_info": {
      "name": "python"
    }
  },
  "cells": [
    {
      "cell_type": "markdown",
      "metadata": {
        "id": "view-in-github",
        "colab_type": "text"
      },
      "source": [
        "<a href=\"https://colab.research.google.com/github/akshay-r13/ds_from_scratch/blob/main/17_Decision_Trees.ipynb\" target=\"_parent\"><img src=\"https://colab.research.google.com/assets/colab-badge.svg\" alt=\"Open In Colab\"/></a>"
      ]
    },
    {
      "cell_type": "markdown",
      "metadata": {
        "id": "XIEkxo7xG4YJ"
      },
      "source": [
        "# Chapter 17 - Decision Trees\n",
        "\n",
        "## What is a Decision Tree?\n",
        "\n",
        "A decision tree uses a tree structure to represent a number of possible decision paths and the corresponding outcome for each path."
      ]
    },
    {
      "cell_type": "code",
      "metadata": {
        "id": "jXbjD1gWKf_r"
      },
      "source": [
        "import math"
      ],
      "execution_count": 20,
      "outputs": []
    },
    {
      "cell_type": "code",
      "metadata": {
        "id": "YuPNoRPRHmsU"
      },
      "source": [
        "\n",
        "# Function to compute entropy\n",
        "\n",
        "def entropy(class_probabilities):\n",
        "  return sum( -p * math.log(p, 2) \n",
        "              for p in class_probabilities\n",
        "              if p != 0 # to avoid calculating log(0) = infinity\n",
        "             )"
      ],
      "execution_count": 21,
      "outputs": []
    },
    {
      "cell_type": "code",
      "metadata": {
        "colab": {
          "base_uri": "https://localhost:8080/"
        },
        "id": "ffQDV5zFKo3-",
        "outputId": "a434913a-5b4b-44bb-d3aa-aa248718f0e7"
      },
      "source": [
        "entropy([0, 0, 0, 1])"
      ],
      "execution_count": 22,
      "outputs": [
        {
          "output_type": "execute_result",
          "data": {
            "text/plain": [
              "0.0"
            ]
          },
          "metadata": {
            "tags": []
          },
          "execution_count": 22
        }
      ]
    },
    {
      "cell_type": "code",
      "metadata": {
        "id": "FAx83kS4LsN3"
      },
      "source": [
        "from collections import Counter"
      ],
      "execution_count": 23,
      "outputs": []
    },
    {
      "cell_type": "code",
      "metadata": {
        "id": "JTLU1ACTKqlW"
      },
      "source": [
        "# Function to compute class probabilities\n",
        "\n",
        "def class_probabilities(labels):\n",
        "  total_count = len(labels) # Total count of labels\n",
        "  return [label_count / total_count for label_count in Counter(labels).values()]"
      ],
      "execution_count": 24,
      "outputs": []
    },
    {
      "cell_type": "code",
      "metadata": {
        "colab": {
          "base_uri": "https://localhost:8080/"
        },
        "id": "rp4t3kjgLt9j",
        "outputId": "13e71c60-9fb0-419d-c60d-44c1fa07a229"
      },
      "source": [
        "class_probabilities(['a', 'a', 'a', 'b'])"
      ],
      "execution_count": 25,
      "outputs": [
        {
          "output_type": "execute_result",
          "data": {
            "text/plain": [
              "[0.75, 0.25]"
            ]
          },
          "metadata": {
            "tags": []
          },
          "execution_count": 25
        }
      ]
    },
    {
      "cell_type": "code",
      "metadata": {
        "id": "jsiQb9jgK4wm"
      },
      "source": [
        "def data_entropy(labelled_data):\n",
        "  labels = [label for _, label in labelled_data]\n",
        "  class_probs = class_probabilities(labels)\n",
        "  return entropy(class_probs)\n"
      ],
      "execution_count": 26,
      "outputs": []
    },
    {
      "cell_type": "code",
      "metadata": {
        "id": "bdYOhdJ9MRxB"
      },
      "source": [
        "# Function to compute partition entropy\n",
        "\n",
        "def partition_entropy(subsets):\n",
        "  total_count = sum(len(subset) for subset in subsets)\n",
        "\n",
        "  return sum( (len(subset) / total_count) * data_entropy(subset) # compute weighted entropy\n",
        "              for subset in subsets) # Iterate each subset\n",
        "    "
      ],
      "execution_count": 39,
      "outputs": []
    },
    {
      "cell_type": "markdown",
      "metadata": {
        "id": "fcxKzyzNNmND"
      },
      "source": [
        "## Creating a Decision Tree"
      ]
    },
    {
      "cell_type": "code",
      "metadata": {
        "id": "wiUT0Q_gN7mR"
      },
      "source": [
        "inputs = [\n",
        "  ({'level':'Senior', 'lang':'Java', 'tweets':'no', 'phd':'no'},\n",
        "  False),\n",
        "  ({'level':'Senior', 'lang':'Java', 'tweets':'no', 'phd':'yes'},\n",
        "  False),\n",
        "  ({'level':'Mid', 'lang':'Python', 'tweets':'no', 'phd':'no'},\n",
        "  True),\n",
        "  ({'level':'Junior', 'lang':'Python', 'tweets':'no', 'phd':'no'},\n",
        "  True),\n",
        "  ({'level':'Junior', 'lang':'R', 'tweets':'yes', 'phd':'no'},\n",
        "  True),\n",
        "  ({'level':'Junior', 'lang':'R', 'tweets':'yes', 'phd':'yes'},\n",
        "  False),\n",
        "  ({'level':'Mid', 'lang':'R', 'tweets':'yes', 'phd':'yes'},\n",
        "  True),\n",
        "  ({'level':'Senior', 'lang':'Python', 'tweets':'no', 'phd':'no'}, False),\n",
        "  ({'level':'Senior', 'lang':'R', 'tweets':'yes', 'phd':'no'},\n",
        "  True),\n",
        "  ({'level':'Junior', 'lang':'Python', 'tweets':'yes', 'phd':'no'}, True),\n",
        "  ({'level':'Senior', 'lang':'Python', 'tweets':'yes', 'phd':'yes'}, True),\n",
        "  ({'level':'Mid', 'lang':'Python', 'tweets':'no', 'phd':'yes'},\n",
        "  True),\n",
        "  ({'level':'Mid', 'lang':'Java', 'tweets':'yes', 'phd':'no'},\n",
        "  True),\n",
        "  ({'level':'Junior', 'lang':'Python', 'tweets':'no', 'phd':'yes'}, False)\n",
        "]"
      ],
      "execution_count": 40,
      "outputs": []
    },
    {
      "cell_type": "code",
      "metadata": {
        "id": "y3FW_IdQdUtO"
      },
      "source": [
        "from collections import defaultdict"
      ],
      "execution_count": 41,
      "outputs": []
    },
    {
      "cell_type": "code",
      "metadata": {
        "id": "NrMxIIWXN8z7"
      },
      "source": [
        "# Function to partition data by an attribute\n",
        "\n",
        "def partition_by(inputs, attribute):\n",
        "  groups = defaultdict(list)\n",
        "  for input in inputs:\n",
        "    groups[input[0][attribute]].append(input)\n",
        "  return groups"
      ],
      "execution_count": 42,
      "outputs": []
    },
    {
      "cell_type": "code",
      "metadata": {
        "id": "AiTPMBNudmro"
      },
      "source": [
        "# Function to compute partition entropy based on attribute\n",
        "\n",
        "def partition_entropy_by(inputs, attribute):\n",
        "  partitions = partition_by(inputs, attribute)\n",
        "  return partition_entropy(partitions.values())"
      ],
      "execution_count": 43,
      "outputs": []
    },
    {
      "cell_type": "code",
      "metadata": {
        "colab": {
          "base_uri": "https://localhost:8080/"
        },
        "id": "2tewMtEGd9P4",
        "outputId": "63b6a5e8-9ae3-41c7-d6dd-692878efe2c3"
      },
      "source": [
        "partition_entropy_by(inputs, 'level')"
      ],
      "execution_count": 47,
      "outputs": [
        {
          "output_type": "execute_result",
          "data": {
            "text/plain": [
              "0.6935361388961918"
            ]
          },
          "metadata": {
            "tags": []
          },
          "execution_count": 47
        }
      ]
    },
    {
      "cell_type": "code",
      "metadata": {
        "colab": {
          "base_uri": "https://localhost:8080/"
        },
        "id": "aejaXgCSdQp0",
        "outputId": "98719ab3-361d-473b-838c-5f23e7354b4d"
      },
      "source": [
        "for key in ['level', 'lang', 'phd', 'tweets']:\n",
        "  print(key, partition_entropy_by(inputs, key))"
      ],
      "execution_count": 50,
      "outputs": [
        {
          "output_type": "stream",
          "text": [
            "level 0.6935361388961918\n",
            "lang 0.8601317128547441\n",
            "phd 0.8921589282623617\n",
            "tweets 0.7884504573082896\n"
          ],
          "name": "stdout"
        }
      ]
    },
    {
      "cell_type": "code",
      "metadata": {
        "colab": {
          "base_uri": "https://localhost:8080/"
        },
        "id": "Utzs8StTePHg",
        "outputId": "b43ff779-028d-402b-a66c-5e2345b3b2c5"
      },
      "source": [
        "partition_by(inputs, 'level')['Mid']"
      ],
      "execution_count": 54,
      "outputs": [
        {
          "output_type": "execute_result",
          "data": {
            "text/plain": [
              "[({'lang': 'Python', 'level': 'Mid', 'phd': 'no', 'tweets': 'no'}, True),\n",
              " ({'lang': 'R', 'level': 'Mid', 'phd': 'yes', 'tweets': 'yes'}, True),\n",
              " ({'lang': 'Python', 'level': 'Mid', 'phd': 'yes', 'tweets': 'no'}, True),\n",
              " ({'lang': 'Java', 'level': 'Mid', 'phd': 'no', 'tweets': 'yes'}, True)]"
            ]
          },
          "metadata": {
            "tags": []
          },
          "execution_count": 54
        }
      ]
    },
    {
      "cell_type": "code",
      "metadata": {
        "colab": {
          "base_uri": "https://localhost:8080/"
        },
        "id": "yvaL08nzewJ4",
        "outputId": "4144fcf4-7baa-4176-8b43-204e51454ec4"
      },
      "source": [
        "senior_inputs =  partition_by(inputs, 'level')['Senior']\n",
        "print(senior_inputs)"
      ],
      "execution_count": 56,
      "outputs": [
        {
          "output_type": "stream",
          "text": [
            "[({'level': 'Senior', 'lang': 'Java', 'tweets': 'no', 'phd': 'no'}, False), ({'level': 'Senior', 'lang': 'Java', 'tweets': 'no', 'phd': 'yes'}, False), ({'level': 'Senior', 'lang': 'Python', 'tweets': 'no', 'phd': 'no'}, False), ({'level': 'Senior', 'lang': 'R', 'tweets': 'yes', 'phd': 'no'}, True), ({'level': 'Senior', 'lang': 'Python', 'tweets': 'yes', 'phd': 'yes'}, True)]\n"
          ],
          "name": "stdout"
        }
      ]
    },
    {
      "cell_type": "code",
      "metadata": {
        "colab": {
          "base_uri": "https://localhost:8080/"
        },
        "id": "xzeVT3N1e2HF",
        "outputId": "89a977a5-51ea-47fe-8171-3834961b2c51"
      },
      "source": [
        "for key in ['level', 'lang', 'phd', 'tweets']:\n",
        "  print(key, partition_entropy_by(senior_inputs, key))"
      ],
      "execution_count": 57,
      "outputs": [
        {
          "output_type": "stream",
          "text": [
            "level 0.9709505944546686\n",
            "lang 0.4\n",
            "phd 0.9509775004326937\n",
            "tweets 0.0\n"
          ],
          "name": "stdout"
        }
      ]
    },
    {
      "cell_type": "code",
      "metadata": {
        "id": "w5oBdo78eyMF"
      },
      "source": [
        ""
      ],
      "execution_count": null,
      "outputs": []
    },
    {
      "cell_type": "code",
      "metadata": {
        "id": "dDJY6xIEdTKy"
      },
      "source": [
        ""
      ],
      "execution_count": null,
      "outputs": []
    }
  ]
}